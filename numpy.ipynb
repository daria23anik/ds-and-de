{
  "cells": [
    {
      "cell_type": "markdown",
      "metadata": {
        "id": "vC84e9kzyxPy"
      },
      "source": [
        "<h1>Импорт библиотек"
      ]
    },
    {
      "cell_type": "code",
      "execution_count": 1,
      "metadata": {
        "id": "cgKeNegmQG5S"
      },
      "outputs": [],
      "source": [
        "import numpy as np\n",
        "import matplotlib.pyplot as plt"
      ]
    },
    {
      "cell_type": "markdown",
      "metadata": {
        "id": "qFM9uVU2x4Ls"
      },
      "source": [
        "<h1>Задача 1. Дан набор из $p$ матриц размерностью $(n, n)$ и $p$ векторов размерностью $(n, 1)$, найти сумму произведений матриц на векторы. Написать тесты для кода"
      ]
    },
    {
      "cell_type": "code",
      "execution_count": 5,
      "metadata": {
        "id": "IAbUvEiYyWFF"
      },
      "outputs": [
        {
          "name": "stdout",
          "output_type": "stream",
          "text": [
            "Все тесты пройдены!\n"
          ]
        }
      ],
      "source": [
        "\n",
        "\n",
        "def sum_prod(X, V):\n",
        "    '''\n",
        "    X - матрицы (n, n)\n",
        "    V - векторы (n, 1)\n",
        "    Гарантируется, что len(X) == len(V)\n",
        "    '''\n",
        "    # Инициализируем результирующий вектор нулями\n",
        "    result = np.zeros((X[0].shape[0], 1))\n",
        "    \n",
        "    # Перемножаем каждую матрицу с соответствующим вектором и суммируем\n",
        "    for matrix, vector in zip(X, V):\n",
        "        result += np.dot(matrix, vector)\n",
        "    \n",
        "    return result\n",
        "\n",
        "def test_sum_prod():\n",
        "    # Тест 1: Простые матрицы и векторы\n",
        "    X1 = [np.array([[1, 2], [3, 4]]), np.array([[5, 6], [7, 8]])]\n",
        "    V1 = [np.array([[1], [1]]), np.array([[1], [1]])]\n",
        "    expected_result1 = np.array([[14], [22]])  # Исправлено: (1+2) + (5+6), (3+4) + (7+8)\n",
        "    assert np.array_equal(sum_prod(X1, V1), expected_result1), \"Test Case 1 Failed\"\n",
        "\n",
        "    # Тест 2: Негативные значения\n",
        "    X2 = [np.array([[1, -2], [-3, 4]]), np.array([[5, -6], [-7, 8]])]\n",
        "    V2 = [np.array([[1], [1]]), np.array([[1], [1]])]\n",
        "    expected_result2 = np.array([[-2], [2]])  # Исправлено: (-1) + (-1), (1) + (1)\n",
        "    assert np.array_equal(sum_prod(X2, V2), expected_result2), \"Test Case 2 Failed\"\n",
        "\n",
        "    # Тест 3: Смешанные значения\n",
        "    X3 = [np.array([[1, 2, 3], [4, 5, 6]]), np.array([[7, 8, 9], [10, 11, 12]])]\n",
        "    V3 = [np.array([[1], [1], [1]]), np.array([[1], [1], [1]])]\n",
        "    expected_result3 = np.array([[30], [48]])  # Исправлено: (6 + 24), (15 + 33)\n",
        "    assert np.array_equal(sum_prod(X3, V3), expected_result3), \"Test Case 3 Failed\"\n",
        "\n",
        "    print(\"Все тесты пройдены!\")\n",
        "\n",
        "# Запускаем тесты\n",
        "test_sum_prod()\n",
        "\n",
        "\n",
        "\n"
      ]
    },
    {
      "cell_type": "markdown",
      "metadata": {
        "id": "TKwPG4fIy2w4"
      },
      "source": [
        "<h1>Задача 2. Дана матрица M, напишите функцию, которая бинаризует матрицу по некоторому threshold (то есть, все значения большие threshold становятся равными 1, иначе 0). Напишите тесты для кода"
      ]
    },
    {
      "cell_type": "code",
      "execution_count": 7,
      "metadata": {
        "id": "KQDNMgsjRNH7"
      },
      "outputs": [
        {
          "name": "stdout",
          "output_type": "stream",
          "text": [
            "Все тесты пройдены!\n"
          ]
        }
      ],
      "source": [
        "\n",
        "\n",
        "def binarize(M, threshold=0.5):\n",
        "    \"\"\"\n",
        "    Бинаризует матрицу M по заданному порогу.\n",
        "    \n",
        "    Параметры:\n",
        "    M : np.ndarray\n",
        "        Входная матрица.\n",
        "    threshold : float\n",
        "        Порог для бинаризации.\n",
        "        \n",
        "    Возвращает:\n",
        "    np.ndarray\n",
        "        Бинаризованная матрица.\n",
        "    \"\"\"\n",
        "    return (M > threshold).astype(int)\n",
        "\n",
        "def test_binarize():\n",
        "    # Тест 1: Простая матрица\n",
        "    M1 = np.array([[0.1, 0.6], [0.4, 0.8]])\n",
        "    expected_result1 = np.array([[0, 1], [0, 1]])\n",
        "    assert np.array_equal(binarize(M1, 0.5), expected_result1), \"Test Case 1 Failed\"\n",
        "\n",
        "    # Тест 2: Все элементы ниже порога\n",
        "    M2 = np.array([[0.1, 0.2], [0.3, 0.4]])\n",
        "    expected_result2 = np.array([[0, 0], [0, 0]])\n",
        "    assert np.array_equal(binarize(M2, 0.5), expected_result2), \"Test Case 2 Failed\"\n",
        "\n",
        "    # Тест 3: Все элементы выше порога\n",
        "    M3 = np.array([[0.6, 0.7], [0.8, 0.9]])\n",
        "    expected_result3 = np.array([[1, 1], [1, 1]])\n",
        "    assert np.array_equal(binarize(M3, 0.5), expected_result3), \"Test Case 3 Failed\"\n",
        "\n",
        "\n",
        "\n",
        "    print(\"Все тесты пройдены!\")\n",
        "\n",
        "# Запускаем тесты\n",
        "test_binarize()\n"
      ]
    },
    {
      "cell_type": "markdown",
      "metadata": {
        "id": "IY5L-h-7zWhN"
      },
      "source": [
        "<h1>Задача 3. Напишите функцию, которая возвращает уникальные элементы из каждой строки матрицы. Напишите такую же функцию, но для столбцов. Напишите тесты для кода"
      ]
    },
    {
      "cell_type": "code",
      "execution_count": 13,
      "metadata": {
        "id": "-8dEZhR0SBC-"
      },
      "outputs": [
        {
          "name": "stdout",
          "output_type": "stream",
          "text": [
            "Результаты уникальных столбцов: [array([1, 3]), array([2, 4]), array([2, 3, 4])]\n",
            "Ожидаемые уникальные столбцы: [array([1, 3]), array([2, 4]), array([2, 3, 4])]\n",
            "Все тесты пройдены!\n"
          ]
        }
      ],
      "source": [
        "\n",
        "\n",
        "def unique_rows(mat):\n",
        "    return [np.unique(row) for row in mat]\n",
        "\n",
        "def unique_columns(mat):\n",
        "    if mat.size == 0:  # Проверка на пустую матрицу\n",
        "        return []\n",
        "    return [np.unique(mat[:, col]) for col in range(mat.shape[1])]\n",
        "\n",
        "def test_unique_functions():\n",
        "    # Тест 1: Простая матрица\n",
        "    mat1 = np.array([[1, 2, 2], \n",
        "                     [3, 4, 4], \n",
        "                     [1, 2, 3]])\n",
        "    expected_unique_rows1 = [np.array([1, 2]), np.array([3, 4]), np.array([1, 2, 3])]\n",
        "    expected_unique_columns1 = [np.array([1, 3]), np.array([2, 4]), np.array([2, 3, 4])]  # Исправлено здесь\n",
        "    \n",
        "    # Проверяем уникальные строки\n",
        "    result_rows1 = unique_rows(mat1)\n",
        "    assert all(np.array_equal(result_rows1[i], expected_unique_rows1[i]) for i in range(len(expected_unique_rows1))), \"Test Case 1 Failed for unique_rows\"\n",
        "\n",
        "    # Проверяем уникальные столбцы\n",
        "    result_columns1 = unique_columns(mat1)\n",
        "    print(\"Результаты уникальных столбцов:\", result_columns1)  # Выводим результаты для отладки\n",
        "    print(\"Ожидаемые уникальные столбцы:\", expected_unique_columns1)  # Выводим ожидаемые значения для отладки\n",
        "    assert all(np.array_equal(result_columns1[i], expected_unique_columns1[i]) for i in range(len(expected_unique_columns1))), \"Test Case 1 Failed for unique_columns\"\n",
        "\n",
        "    # Тест 2: Матрица с одинаковыми элементами\n",
        "    mat2 = np.array([[1, 1, 1], \n",
        "                     [1, 1, 1], \n",
        "                     [1, 1, 1]])\n",
        "    expected_unique_rows2 = [np.array([1]), np.array([1]), np.array([1])]\n",
        "    expected_unique_columns2 = [np.array([1]), np.array([1]), np.array([1])]\n",
        "    \n",
        "    result_rows2 = unique_rows(mat2)\n",
        "    assert all(np.array_equal(result_rows2[i], expected_unique_rows2[i]) for i in range(len(expected_unique_rows2))), \"Test Case 2 Failed for unique_rows\"\n",
        "    \n",
        "    result_columns2 = unique_columns(mat2)\n",
        "    assert all(np.array_equal(result_columns2[i], expected_unique_columns2[i]) for i in range(len(expected_unique_columns2))), \"Test Case 2 Failed for unique_columns\"\n",
        "\n",
        "    # Тест 3: Пустая матрица\n",
        "    mat3 = np.array([[], []])\n",
        "    expected_unique_rows3 = [np.array([]), np.array([])]\n",
        "    expected_unique_columns3 = []  # Исправлено здесь\n",
        "    \n",
        "    result_rows3 = unique_rows(mat3)\n",
        "    assert all(np.array_equal(result_rows3[i], expected_unique_rows3[i]) for i in range(len(expected_unique_rows3))), \"Test Case 3 Failed for unique_rows\"\n",
        "    \n",
        "    result_columns3 = unique_columns(mat3)\n",
        "    assert result_columns3 == expected_unique_columns3, \"Test Case 3 Failed for unique_columns\"  # Обновлено для проверки пустого списка\n",
        "\n",
        "    print(\"Все тесты пройдены!\")\n",
        "\n",
        "# Запускаем тесты\n",
        "test_unique_functions()\n"
      ]
    },
    {
      "cell_type": "markdown",
      "metadata": {
        "id": "roYAlo4Jz-lH"
      },
      "source": [
        "<h1>Задача 4. Напишите функцию, которая заполняет матрицу с размерами $(m, n)$ случайными числами, распределенными по нормальному закону. Затем считает мат. ожидание и дисперсию для каждого из столбцов и строк, а также строит для каждой строки и столбца гистограмму значений (использовать функцию hist из модуля matplotlib.plot)"
      ]
    },
    {
      "cell_type": "code",
      "execution_count": 14,
      "metadata": {
        "id": "nZK_71hMSQzv"
      },
      "outputs": [
        {
          "name": "stdout",
          "output_type": "stream",
          "text": [
            "Математическое ожидание для строк: [-0.27675162 -0.49177063 -0.87489567  0.26208211]\n",
            "Дисперсия для строк: [0.26436435 0.10595555 0.04403401 0.43763433]\n",
            "Математическое ожидание для столбцов: [-0.13139718 -0.59215903 -0.31244566]\n",
            "Дисперсия для столбцов: [0.62832177 0.14919633 0.26035271]\n"
          ]
        },
        {
          "data": {
            "image/png": "[encoded data removed]",
            "text/plain": [
              "<Figure size 1200x600 with 7 Axes>"
            ]
          },
          "metadata": {},
          "output_type": "display_data"
        }
      ],
      "source": [
        "\n",
        "import matplotlib.pyplot as plt\n",
        "\n",
        "def generate_matrix_and_analyze(m, n):\n",
        "    # Генерация матрицы с размерами (m, n) со случайными числами, распределенными по нормальному закону\n",
        "    matrix = np.random.normal(loc=0, scale=1, size=(m, n))  # loc - среднее значение, scale - стандартное отклонение\n",
        "\n",
        "    # Вычисление математического ожидания и дисперсии для каждой строки и столбца\n",
        "    mean_rows = np.mean(matrix, axis=1)\n",
        "    var_rows = np.var(matrix, axis=1)\n",
        "\n",
        "    mean_columns = np.mean(matrix, axis=0)\n",
        "    var_columns = np.var(matrix, axis=0)\n",
        "\n",
        "    # Вывод результатов\n",
        "    print(\"Математическое ожидание для строк:\", mean_rows)\n",
        "    print(\"Дисперсия для строк:\", var_rows)\n",
        "    print(\"Математическое ожидание для столбцов:\", mean_columns)\n",
        "    print(\"Дисперсия для столбцов:\", var_columns)\n",
        "\n",
        "    # Построение гистограмм для каждой строки\n",
        "    plt.figure(figsize=(12, 6))\n",
        "    for i in range(m):\n",
        "        plt.subplot(m, 2, i * 2 + 1)\n",
        "        plt.hist(matrix[i], bins=10, alpha=0.7, color='blue')\n",
        "        plt.title(f'Гистограмма строки {i + 1}')\n",
        "        plt.xlabel('Значения')\n",
        "        plt.ylabel('Частота')\n",
        "\n",
        "    # Построение гистограмм для каждого столбца\n",
        "    for j in range(n):\n",
        "        plt.subplot(m, 2, j * 2 + 2)\n",
        "        plt.hist(matrix[:, j], bins=10, alpha=0.7, color='orange')\n",
        "        plt.title(f'Гистограмма столбца {j + 1}')\n",
        "        plt.xlabel('Значения')\n",
        "        plt.ylabel('Частота')\n",
        "\n",
        "    plt.tight_layout()\n",
        "    plt.show()\n",
        "\n",
        "# Пример использования функции\n",
        "generate_matrix_and_analyze(4, 3)  # Генерация матрицы 4x3\n"
      ]
    },
    {
      "cell_type": "markdown",
      "metadata": {
        "id": "BDyATNdM0dJ2"
      },
      "source": [
        "<h1>Задача 5. Напишите функцию, которая заполняет матрицу $(m, n)$ в шахматном порядке заданными числами $a$ и $b$. Напишите тесты для кода"
      ]
    },
    {
      "cell_type": "code",
      "execution_count": 15,
      "metadata": {
        "id": "RWNJYWQGecS6"
      },
      "outputs": [
        {
          "name": "stdout",
          "output_type": "stream",
          "text": [
            "Все тесты пройдены!\n"
          ]
        }
      ],
      "source": [
        "def chess(m, n, a, b):\n",
        "    # Создаем матрицу размером (m, n) и заполняем её значениями a и b в шахматном порядке\n",
        "    matrix = [[0] * n for _ in range(m)]\n",
        "    for i in range(m):\n",
        "        for j in range(n):\n",
        "            # Если сумма индексов четная, ставим a, иначе b\n",
        "            if (i + j) % 2 == 0:\n",
        "                matrix[i][j] = a\n",
        "            else:\n",
        "                matrix[i][j] = b\n",
        "    return matrix\n",
        "\n",
        "# Тесты для функции chess\n",
        "def test_chess():\n",
        "    # Тест 1: Простой случай 2x2\n",
        "    result1 = chess(2, 2, 1, 0)\n",
        "    expected1 = [[1, 0], [0, 1]]\n",
        "    assert result1 == expected1, f\"Test 1 Failed: {result1} != {expected1}\"\n",
        "\n",
        "    # Тест 2: Простой случай 3x3\n",
        "    result2 = chess(3, 3, 1, 0)\n",
        "    expected2 = [[1, 0, 1], [0, 1, 0], [1, 0, 1]]\n",
        "    assert result2 == expected2, f\"Test 2 Failed: {result2} != {expected2}\"\n",
        "\n",
        "    # Тест 3: Простой случай 3x4\n",
        "    result3 = chess(3, 4, 2, 3)\n",
        "    expected3 = [[2, 3, 2, 3], [3, 2, 3, 2], [2, 3, 2, 3]]\n",
        "    assert result3 == expected3, f\"Test 3 Failed: {result3} != {expected3}\"\n",
        "\n",
        "    # Тест 4: Простой случай 4x3\n",
        "    result4 = chess(4, 3, 5, 6)\n",
        "    expected4 = [[5, 6, 5], [6, 5, 6], [5, 6, 5], [6, 5, 6]]\n",
        "    assert result4 == expected4, f\"Test 4 Failed: {result4} != {expected4}\"\n",
        "\n",
        "    # Тест 5: Простой случай 1x1\n",
        "    result5 = chess(1, 1, 7, 8)\n",
        "    expected5 = [[7]]\n",
        "    assert result5 == expected5, f\"Test 5 Failed: {result5} != {expected5}\"\n",
        "\n",
        "    print(\"Все тесты пройдены!\")\n",
        "\n",
        "# Запуск тестов\n",
        "test_chess()\n"
      ]
    },
    {
      "cell_type": "markdown",
      "metadata": {
        "id": "-ymXLtTN0vB6"
      },
      "source": [
        "<h1>Задача 6. Напишите функцию, которая отрисовывает прямоугольник с заданными размерами (a, b) на изображении размера (m, n), цвет фона задайте в схеме RGB, как и цвет прямоугольника. Цвета также должны быть параметрами функции. Напишите аналогичную функцию но для овала с полуосями a и b. Напишите тесты для кода.\n",
        "Примечание: уравнение эллипса (границы овала) можно записать как:\n",
        "<h1>$\\frac{(x-x_0)^2}{a^2}+\\frac{(y-y_0)^2}{b^2}=1$"
      ]
    },
    {
      "cell_type": "code",
      "execution_count": 19,
      "metadata": {
        "id": "sNfl1t_kfOF4"
      },
      "outputs": [
        {
          "name": "stdout",
          "output_type": "stream",
          "text": [
            "Все тесты пройдены!\n"
          ]
        }
      ],
      "source": [
        "\n",
        "from PIL import Image, ImageDraw\n",
        "\n",
        "def draw_rectangle(width, height, image_height, image_width, rectangle_color, background_color):\n",
        "    \"\"\"\n",
        "    Рисует прямоугольник на изображении.\n",
        "    \n",
        "    :param width: Ширина прямоугольника\n",
        "    :param height: Высота прямоугольника\n",
        "    :param image_height: Высота изображения\n",
        "    :param image_width: Ширина изображения\n",
        "    :param rectangle_color: Цвет прямоугольника (RGB)\n",
        "    :param background_color: Цвет фона (RGB)\n",
        "    :return: Изображение с нарисованным прямоугольником\n",
        "    \"\"\"\n",
        "    # Создаем изображение с заданным фоном\n",
        "    image = Image.new(\"RGB\", (image_width, image_height), background_color)\n",
        "    draw = ImageDraw.Draw(image)\n",
        "\n",
        "    # Рисуем прямоугольник\n",
        "    draw.rectangle([0, 0, width, height], fill=rectangle_color)\n",
        "\n",
        "    return image\n",
        "\n",
        "def draw_ellipse(width, height, image_height, image_width, ellipse_color, background_color):\n",
        "    \"\"\"\n",
        "    Рисует овал (эллипс) на изображении.\n",
        "    \n",
        "    :param width: Ширина овала\n",
        "    :param height: Высота овала\n",
        "    :param image_height: Высота изображения\n",
        "    :param image_width: Ширина изображения\n",
        "    :param ellipse_color: Цвет овала (RGB)\n",
        "    :param background_color: Цвет фона (RGB)\n",
        "    :return: Изображение с нарисованным овалом\n",
        "    \"\"\"\n",
        "    # Создаем изображение с заданным фоном\n",
        "    image = Image.new(\"RGB\", (image_width, image_height), background_color)\n",
        "    draw = ImageDraw.Draw(image)\n",
        "\n",
        "    # Рисуем овал (эллипс)\n",
        "    draw.ellipse([0, 0, width, height], fill=ellipse_color)\n",
        "\n",
        "    return image\n",
        "\n",
        "# Тесты для функций\n",
        "def test_shapes():\n",
        "    # Тест 1: Прямоугольник 100x50 на изображении 200x150 с белым фоном\n",
        "    rectangle_image = draw_rectangle(100, 50, 150, 200, (255, 0, 0), (255, 255, 255))  # Красный прямоугольник на белом фоне\n",
        "    rectangle_image.show()  # Показываем изображение\n",
        "\n",
        "    # Тест 2: Овал 100x50 на изображении 200x150 с белым фоном\n",
        "    ellipse_image = draw_ellipse(100, 50, 150, 200, (0, 255, 0), (255, 255, 255))  # Зеленый овал на белом фоне\n",
        "    ellipse_image.show()  # Показываем изображение\n",
        "\n",
        "    # Тест 3: Прямоугольник 200x100 на изображении 300x200 с черным фоном\n",
        "    rectangle_image = draw_rectangle(200, 100, 200, 300, (0, 0, 255), (0, 0, 0))  # Синий прямоугольник на черном фоне\n",
        "    rectangle_image.show()  # Показываем изображение\n",
        "\n",
        "    # Тест 4: Овал 150x75 на изображении 300x200 с черным фоном\n",
        "    ellipse_image = draw_ellipse(150, 75, 200, 300, (255, 255, 0), (0, 0, 0))  # Желтый овал на черном фоне\n",
        "    ellipse_image.show()  # Показываем изображение\n",
        "\n",
        "    print(\"Все тесты пройдены!\")\n",
        "\n",
        "# Запуск тестов\n",
        "test_shapes()\n",
        "\n",
        "\n",
        " \n"
      ]
    },
    {
      "cell_type": "markdown",
      "metadata": {
        "id": "S82c38oz244H"
      },
      "source": [
        "<h1>Задача 7. Дан некий временной ряд. Для данного ряда нужно найти его: математическое ожидание, дисперсию, СКО, найти все локальные максимумы и минимумы (локальный максимум - это точка, которая больше своих соседних точек, а локальный минимум - это точка, которая меньше своих соседей), а также вычислить для данного ряда другой ряд, получаемый методом скользящего среднего с размером окна $p$.\n",
        "<h1>Примечание: метод скользящего среднего подразумевает нахождение среднего из подмножетсва ряда размером $p$"
      ]
    },
    {
      "cell_type": "code",
      "execution_count": 20,
      "metadata": {
        "id": "Zb9mIVge5MMt"
      },
      "outputs": [
        {
          "name": "stdout",
          "output_type": "stream",
          "text": [
            "Математическое ожидание: 6.3\n",
            "Дисперсия: 9.01\n",
            "Стандартное отклонение: 3.0016662039607267\n",
            "Локальные максимумы: [ 1  3  5 10 14 18]\n",
            "Локальные минимумы: [ 2  4  7 12 16]\n",
            "Скользящее среднее: [ 2.          3.33333333  3.66666667  5.          5.          4.66666667\n",
            "  4.          4.66666667  6.33333333  7.          6.33333333  6.66666667\n",
            "  8.          9.          8.33333333  8.66666667 10.         11.        ]\n"
          ]
        }
      ],
      "source": [
        "\n",
        "from scipy.signal import argrelextrema\n",
        "\n",
        "def analyze_time_series(data, p):\n",
        "    # 1. Вычисление математического ожидания\n",
        "    mean = np.mean(data)\n",
        "    \n",
        "    # 2. Вычисление дисперсии и стандартного отклонения\n",
        "    variance = np.var(data)\n",
        "    std_dev = np.std(data)\n",
        "    \n",
        "    # 3. Поиск локальных максимумов и минимумов\n",
        "    # Для нахождения локальных экстремумов используем argrelextrema\n",
        "    data = np.array(data)\n",
        "    local_maxima = argrelextrema(data, np.greater)[0]\n",
        "    local_minima = argrelextrema(data, np.less)[0]\n",
        "    \n",
        "    # 4. Вычисление скользящего среднего\n",
        "    moving_average = np.convolve(data, np.ones(p)/p, mode='valid')\n",
        "    \n",
        "    return {\n",
        "        \"mean\": mean,\n",
        "        \"variance\": variance,\n",
        "        \"std_dev\": std_dev,\n",
        "        \"local_maxima\": local_maxima,\n",
        "        \"local_minima\": local_minima,\n",
        "        \"moving_average\": moving_average\n",
        "    }\n",
        "\n",
        "# Пример временного ряда\n",
        "time_series = [1, 3, 2, 5, 4, 6, 5, 3, 4, 7, 8, 6, 5, 9, 10, 8, 7, 11, 12, 10]\n",
        "window_size = 3\n",
        "\n",
        "# Анализ временного ряда\n",
        "result = analyze_time_series(time_series, window_size)\n",
        "\n",
        "# Вывод результатов\n",
        "print(\"Математическое ожидание:\", result[\"mean\"])\n",
        "print(\"Дисперсия:\", result[\"variance\"])\n",
        "print(\"Стандартное отклонение:\", result[\"std_dev\"])\n",
        "print(\"Локальные максимумы:\", result[\"local_maxima\"])\n",
        "print(\"Локальные минимумы:\", result[\"local_minima\"])\n",
        "print(\"Скользящее среднее:\", result[\"moving_average\"])\n"
      ]
    },
    {
      "cell_type": "markdown",
      "metadata": {
        "id": "jPkylmOX5O9n"
      },
      "source": [
        "<h1> Задача 8. Дан некоторый вектор с целочисленными метками классов, напишите функцию, которая выполняет one-hot-encoding для данного вектора\n",
        "<h1> One-hot-encoding - представление, в котором на месте метки некоторого класса стоит 1, в остальных позициях стоит 0. Например для вектора [0, 2, 3, 0] one-hot-encoding выглядит как: [[1, 0, 0, 0], [0, 0, 1, 0], [0, 0, 0, 1], [1, 0, 0, 0]]"
      ]
    },
    {
      "cell_type": "code",
      "execution_count": 21,
      "metadata": {
        "id": "Y-jlnZvw56lD"
      },
      "outputs": [
        {
          "name": "stdout",
          "output_type": "stream",
          "text": [
            "One-hot encoding:\n",
            "[[1 0 0 0]\n",
            " [0 0 1 0]\n",
            " [0 0 0 1]\n",
            " [1 0 0 0]]\n"
          ]
        }
      ],
      "source": [
        "\n",
        "def one_hot_encode(labels):\n",
        "    # Находим максимальное значение метки, чтобы определить количество классов\n",
        "    num_classes = np.max(labels) + 1  # +1, так как метки начинаются с 0\n",
        "    # Создаем матрицу нулей размером (количество меток, количество классов)\n",
        "    one_hot_matrix = np.zeros((len(labels), num_classes), dtype=int)\n",
        "    # Заполняем матрицу, устанавливая 1 в нужные позиции\n",
        "    one_hot_matrix[np.arange(len(labels)), labels] = 1\n",
        "    return one_hot_matrix\n",
        "\n",
        "# Пример использования функции\n",
        "labels = [0, 2, 3, 0]\n",
        "one_hot_encoded = one_hot_encode(labels)\n",
        "\n",
        "print(\"One-hot encoding:\")\n",
        "print(one_hot_encoded)\n"
      ]
    }
  ],
  "metadata": {
    "colab": {
      "provenance": []
    },
    "kernelspec": {
      "display_name": "base",
      "language": "python",
      "name": "python3"
    },
    "language_info": {
      "codemirror_mode": {
        "name": "ipython",
        "version": 3
      },
      "file_extension": ".py",
      "mimetype": "text/x-python",
      "name": "python",
      "nbconvert_exporter": "python",
      "pygments_lexer": "ipython3",
      "version": "3.12.4"
    }
  },
  "nbformat": 4,
  "nbformat_minor": 0
}
