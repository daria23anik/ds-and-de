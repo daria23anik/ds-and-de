{
  "cells": [
    {
      "cell_type": "markdown",
      "metadata": {
        "id": "M-DGa20PaHnu"
      },
      "source": [
        "#Задача 1\n",
        "Написать функцию на вход которой подается строка, состоящая из латинских букв.\n",
        "Функция должна вернуть количество гласных букв (a, e, i, o, u) в этой строке. Написать тесты для кода"
      ]
    },
    {
      "cell_type": "code",
      "execution_count": 35,
      "metadata": {
        "id": "XvX8X_JJ6PCb"
      },
      "outputs": [
        {
          "name": "stdout",
          "output_type": "stream",
          "text": [
            "Все тесты пройдены!\n"
          ]
        }
      ],
      "source": [
        "# Your code goes here\n",
        "def count_vowels(input_string):\n",
        "    # Определяем набор гласных букв\n",
        "    vowels = 'aeiouAEIOU'\n",
        "    # Считаем количество гласных в строке count = sum(1 for char in input_string if char in vowels)\n",
        "    count = sum(1 for char in input_string if char in vowels)\n",
        "    return count\n",
        "\n",
        "# Пример теста для функции\n",
        "def test_count_vowels():\n",
        "    assert count_vowels(\"Hello World\") == 3, \"Test Case 1 Failed\"\n",
        "    assert count_vowels(\"Python\") == 1, \"Test Case 2 Failed\"\n",
        "    assert count_vowels(\"AEIOU\") == 5, \"Test Case 3 Failed\"\n",
        "    \n",
        "    print(\"Все тесты пройдены!\")\n",
        "\n",
        "# Запускаем тесты\n",
        "test_count_vowels()"
      ]
    },
    {
      "cell_type": "markdown",
      "metadata": {
        "id": "t2ClV_Y0bbr6"
      },
      "source": [
        "# Задача 2\n",
        "Написать функцию на вход, которой подается строка. Функция должна вернуть true, если\n",
        "каждый символ в строке встречается только 1 раз, иначе должна вернуть false. Написать тесты для кода"
      ]
    },
    {
      "cell_type": "code",
      "execution_count": 36,
      "metadata": {
        "id": "FppbECao6VIz"
      },
      "outputs": [
        {
          "name": "stdout",
          "output_type": "stream",
          "text": [
            "Все тесты пройдены!\n"
          ]
        }
      ],
      "source": [
        "def has_unique_characters(input_string):\n",
        "    seen = set()  # Создаем множество для хранения уникальных символов\n",
        "    for char in input_string:\n",
        "        if char in seen:  # Если символ уже встречался\n",
        "            return False  # Возвращаем False\n",
        "        seen.add(char)  # Добавляем символ в множество\n",
        "    return True  # Если все символы уникальны, возвращаем True\n",
        "\n",
        "# Пример теста для функции\n",
        "def test_has_unique_characters():\n",
        "    assert has_unique_characters(\"abcdef\") == True, \"Test Case 1 Failed\"\n",
        "    assert has_unique_characters(\"abcdeff\") == False, \"Test Case 2 Failed\"\n",
        "    assert has_unique_characters(\"123456\") == True, \"Test Case 3 Failed\"\n",
        "   \n",
        "    print(\"Все тесты пройдены!\")\n",
        "\n",
        "# Запускаем тесты\n",
        "test_has_unique_characters()\n"
      ]
    },
    {
      "cell_type": "markdown",
      "metadata": {
        "id": "udRiIK1cdt6E"
      },
      "source": [
        "# Задача 3\n",
        "Написать функцию, которая принимает положительное число и возвращает количество\n",
        "бит равных 1 в этом числе. Написать тесты для кода"
      ]
    },
    {
      "cell_type": "code",
      "execution_count": 37,
      "metadata": {
        "id": "6tkfDJRz6dp_"
      },
      "outputs": [
        {
          "name": "stdout",
          "output_type": "stream",
          "text": [
            "Все тесты пройдены!\n"
          ]
        }
      ],
      "source": [
        "# Your code goes here\n",
        "def count_bits(n):\n",
        "    \"\"\"Возвращает количество битов, равных 1, в положительном числе n.\"\"\"\n",
        "    if n < 0:\n",
        "        raise ValueError(\"Число должно быть положительным.\")\n",
        "    \n",
        "    count = 0\n",
        "    while n:\n",
        "        count += n & 1  # Увеличиваем счетчик, если младший бит равен 1\n",
        "        n >>= 1  # Сдвигаем число вправо на 1 бит\n",
        "    return count\n",
        "\n",
        "# Пример тестов для функции\n",
        "def test_count_bits():\n",
        "    assert count_bits(0) == 0, \"Test Case 1 Failed\"  # 0 битов равных 1\n",
        "    assert count_bits(1) == 1, \"Test Case 2 Failed\"  # 1 бит равный 1\n",
        "    assert count_bits(2) == 1, \"Test Case 3 Failed\"  # 1 бит равный 1\n",
        "\n",
        "    print(\"Все тесты пройдены!\")\n",
        "\n",
        "# Запускаем тесты\n",
        "test_count_bits()\n"
      ]
    },
    {
      "cell_type": "markdown",
      "metadata": {
        "id": "26dDUz-Ae17N"
      },
      "source": [
        "# Задача 4\n",
        "Написать функцию, которая принимает положительное число. Функция должна вернуть то,\n",
        "сколько раз необходимо перемножать цифры числа или результат перемножения, чтобы\n",
        "получилось число состоящее из одной цифры.\n",
        "Например, для входного числа:\n",
        "· 39 функция должна вернуть 3, так как 3*9=27 => 2*7=14 => 1*4=4\n",
        "· 4 функция должна вернуть 0, так как число уже состоит из одной цифры\n",
        "· 999 функция должна вернуть 4, так как 9*9*9=729 => 7*2*9=126 => 1*2*6=12 =>\n",
        "1*2=2. Написать тесты для кода"
      ]
    },
    {
      "cell_type": "code",
      "execution_count": 38,
      "metadata": {
        "id": "BH1A_Mgi6i4G"
      },
      "outputs": [
        {
          "name": "stdout",
          "output_type": "stream",
          "text": [
            "Все тесты пройдены!\n"
          ]
        }
      ],
      "source": [
        "def multiply_digits_until_single_digit(n):\n",
        "    \"\"\"Возвращает количество перемножений цифр числа n, пока не останется одна цифра.\"\"\"\n",
        "    if n < 0:\n",
        "        raise ValueError(\"Число должно быть положительным.\")\n",
        "\n",
        "    count = 0  # Счетчик перемножений\n",
        "\n",
        "    while n >= 10:  # Пока число состоит более чем из одной цифры\n",
        "        product = 1\n",
        "        while n > 0:\n",
        "            product *= n % 10  # Перемножаем последнюю цифру\n",
        "            n //= 10  # Убираем последнюю цифру\n",
        "        n = product  # Обновляем n на произведение его цифр\n",
        "        count += 1  # Увеличиваем счетчик перемножений\n",
        "\n",
        "    return count\n",
        "\n",
        "# Пример тестов для функции\n",
        "def test_multiply_digits_until_single_digit():\n",
        "    assert multiply_digits_until_single_digit(39) == 3, \"Test Case 1 Failed\"  # 3 * 9 = 27 -> 2 * 7 = 14 -> 1 * 4 = 4\n",
        "    assert multiply_digits_until_single_digit(4) == 0, \"Test Case 2 Failed\"  # 4 уже состоит из одной цифры\n",
        "    assert multiply_digits_until_single_digit(999) == 4, \"Test Case 3 Failed\"  # 9 * 9 * 9 = 729 -> 7 * 2 * 9 = 126 -> 1 * 2 * 6 = 12 -> 1 * 2 = 2\n",
        "    \n",
        "    print(\"Все тесты пройдены!\")\n",
        "\n",
        "# Запускаем тесты\n",
        "test_multiply_digits_until_single_digit()\n",
        "\n"
      ]
    },
    {
      "cell_type": "markdown",
      "metadata": {
        "id": "0nS-kIa8g8vd"
      },
      "source": [
        "# Задача 5\n",
        "Написать функцию, которая принимает два целочисленных вектора одинаковой длины и\n",
        "возвращает среднеквадратическое отклонение двух векторов. Написать тесты для кода"
      ]
    },
    {
      "cell_type": "code",
      "execution_count": 39,
      "metadata": {
        "id": "8iphx4LM6xbx"
      },
      "outputs": [
        {
          "name": "stdout",
          "output_type": "stream",
          "text": [
            "Все тесты пройдены!\n"
          ]
        }
      ],
      "source": [
        "import math\n",
        "\n",
        "def calculate_std_deviation(vector1, vector2):\n",
        "    \"\"\"Вычисляет среднеквадратическое отклонение двух векторов.\"\"\"\n",
        "    if len(vector1) != len(vector2):\n",
        "        raise ValueError(\"Векторы должны быть одинаковой длины.\")\n",
        "    \n",
        "    n = len(vector1)\n",
        "    \n",
        "    # Вычисляем средние значения \n",
        "    mean1 = sum(vector1) / n\n",
        "    mean2 = sum(vector2) / n # Вычисляем дисперсию\n",
        "    variance1 = sum((x - mean1) ** 2 for x in vector1) / n\n",
        "    variance2 = sum((y - mean2) ** 2 for y in vector2) / n\n",
        "    \n",
        "    std_deviation1 = math.sqrt(variance1)\n",
        "    std_deviation2 = math.sqrt(variance2)\n",
        "    \n",
        "    return std_deviation1, std_deviation2\n",
        "\n",
        "# Пример тестов для функции\n",
        "def test_calculate_std_deviation():\n",
        "    assert math.isclose(calculate_std_deviation([1, 2, 3], [4, 5, 6])[0], 0.816496580927726, rel_tol=1e-9), \"Test Case 1 Failed\"  # СКО для первого вектора assert math.isclose(calculate_std_deviation([1, 2, 3], [4, 5, 6])[1], 0.816496580927726, rel_tol=1e-9), \"Test Case 1 Failed\"  # СКО для второго вектора assert calculate_std_deviation([5, 5, 5], [5, 5, 5]) == (0.0, 0.0), \"Test Case 2 Failed\"  # Все элементы одинаковые\n",
        "    assert math.isclose(calculate_std_deviation([1, 2, 3, 4], [2, 3, 4, 5])[0], 1.118033988749895, rel_tol=1e-9), \"Test Case 3 Failed\"  # Разные значения\n",
        "    assert math.isclose(calculate_std_deviation([1, 2, 3, 4], [2, 3, 4, 5])[1], 1.118033988749895, rel_tol=1e-9), \"Test Case 3 Failed\"  # Разные значения\n",
        "    \n",
        "    \n",
        "    print(\"Все тесты пройдены!\")\n",
        "\n",
        "# Запускаем тесты\n",
        "test_calculate_std_deviation()\n"
      ]
    },
    {
      "cell_type": "markdown",
      "metadata": {
        "id": "vpIPKL439zkw"
      },
      "source": [
        "# Задача 6\n",
        "Написать функцию, принимающая целое положительное число. Функция должна вернуть\n",
        "строку вида “(n1**p1)(n2**p2)…(nk**pk)” представляющая разложение числа на простые\n",
        "множители (если pi == 1, то выводить только ni).\n",
        "Например, для числа 86240 функция должна вернуть “(2**5)(5)(7**2)(11)”. Написать тесты для кода"
      ]
    },
    {
      "cell_type": "code",
      "execution_count": 40,
      "metadata": {
        "id": "pFebmcZk94Jw"
      },
      "outputs": [
        {
          "name": "stdout",
          "output_type": "stream",
          "text": [
            "(2^5)(5)(7^2)(11)\n",
            "Все тесты пройдены!\n"
          ]
        }
      ],
      "source": [
        "def prime_factorization(n):\n",
        "    \"\"\"Возвращает строку, представляющую разложение числа n на простые множители.\"\"\"\n",
        "    if n < 1:\n",
        "        raise ValueError(\"Число должно быть положительным целым.\")\n",
        "    \n",
        "    factors = {}\n",
        "    \n",
        "    # Проверяем делимость на 2\n",
        "    while n % 2 == 0:\n",
        "        if 2 in factors:\n",
        "            factors[2] += 1\n",
        "        else:\n",
        "            factors[2] = 1\n",
        "        n //= 2\n",
        "    \n",
        "    # Проверяем делимость на нечетные числа\n",
        "    for i in range(3, int(n**0.5) + 1, 2):\n",
        "        while n % i == 0:\n",
        "            if i in factors:\n",
        "                factors[i] += 1\n",
        "            else:\n",
        "                factors[i] = 1\n",
        "            n //= i\n",
        "    \n",
        "    # Если n является простым числом больше 2\n",
        "    if n > 2:\n",
        "        factors[n] = 1\n",
        "    \n",
        "    # Форматируем результат\n",
        "    result = []\n",
        "    for prime, power in sorted(factors.items()):\n",
        "        if power == 1:\n",
        "            result.append(f\"({prime})\")\n",
        "        else:\n",
        "            result.append(f\"({prime}^{power})\")  # Обратите внимание на изменение здесь\n",
        "    \n",
        "    return ''.join(result)\n",
        "\n",
        "# Пример использования\n",
        "print(prime_factorization(86240))  # Ожидается: \"(2^5)(5)(7^2)(11)\"\n",
        "def test_prime_factorization():\n",
        "    assert prime_factorization(1) == \"\", \"Test Case 1 Failed\"  # 1 не имеет простых множителей\n",
        "    assert prime_factorization(2) == \"(2)\", \"Test Case 2 Failed\"  # 2 - простое число\n",
        "    assert prime_factorization(3) == \"(3)\", \"Test Case 3 Failed\"  # 3 - простое число\n",
        "    \n",
        "\n",
        "    print(\"Все тесты пройдены!\")\n",
        "\n",
        "# Запускаем тесты\n",
        "test_prime_factorization()\n",
        "\n"
      ]
    },
    {
      "cell_type": "markdown",
      "metadata": {
        "id": "ps2s0BudX7A2"
      },
      "source": [
        "# Задача 7\n",
        "Написать функцию, принимающая целое число n, задающее количество кубиков. Функция\n",
        "должна определить, можно ли из данного кол-ва кубиков построить пирамиду, то есть\n",
        "можно ли представить число n как 1^2+2^2+3^2+…+k^2. Если можно, то функция должна\n",
        "вернуть k, иначе строку “It is impossible”. Написать тесты для кода"
      ]
    },
    {
      "cell_type": "code",
      "execution_count": 41,
      "metadata": {
        "id": "3YPjEXxhX_YT"
      },
      "outputs": [
        {
          "name": "stdout",
          "output_type": "stream",
          "text": [
            "Все тесты пройдены!\n"
          ]
        }
      ],
      "source": [
        "def can_build_pyramid(n):\n",
        "    if n < 1:\n",
        "        return \"It is impossible\"\n",
        "    \n",
        "    k = 1\n",
        "    total_cubes = 0\n",
        "    \n",
        "    while True:\n",
        "        total_cubes += k**2\n",
        "        if total_cubes == n:\n",
        "            return k\n",
        "        elif total_cubes > n:\n",
        "            return \"It is impossible\"\n",
        "        k += 1\n",
        "\n",
        "def test_can_build_pyramid():\n",
        "    assert can_build_pyramid(1) == 1, \"Test Case 1 Failed\"  # 1 = 1^2\n",
        "    assert can_build_pyramid(5) == 2, \"Test Case 2 Failed\"  # 1^2 + 2^2 = 5\n",
        "    assert can_build_pyramid(14) == 3, \"Test Case 3 Failed\"  # 1^2 + 2^2 + 3^2 = 14\n",
        "    \n",
        "    \n",
        "    print(\"Все тесты пройдены!\")\n",
        "\n",
        "# Запускаем тесты\n",
        "test_can_build_pyramid()\n",
        "\n",
        "\n"
      ]
    },
    {
      "cell_type": "markdown",
      "metadata": {
        "id": "KeKgmIdAQMEJ"
      },
      "source": [
        "# Задача 8\n",
        "Функция принимает на вход положительное число и определяет является ли оно сбалансированным, т.е. сумма цифр до средних равна сумме цифр после. Средними в случае нечетного числа цифр считать одну цифру, в случае четного - две средних. Написать тесты для кода"
      ]
    },
    {
      "cell_type": "code",
      "execution_count": 42,
      "metadata": {
        "id": "gMAAqtqlQrZt"
      },
      "outputs": [
        {
          "name": "stdout",
          "output_type": "stream",
          "text": [
            "Все тесты пройдены!\n"
          ]
        }
      ],
      "source": [
        "# Your code goes here\n",
        "def is_balanced(n):\n",
        "    # Преобразуем число в строку, чтобы легко работать с цифрами\n",
        "    digits = str(n)\n",
        "    length = len(digits)\n",
        "    \n",
        "    # Определяем средние индексы\n",
        "    if length % 2 == 0:  # четное количество цифр\n",
        "        mid1 = length // 2 - 1\n",
        "        mid2 = length // 2\n",
        "        left_sum = sum(int(d) for d in digits[:mid1 + 1])\n",
        "        right_sum = sum(int(d) for d in digits[mid2:])\n",
        "    else:  # нечетное количество цифр\n",
        "        mid = length // 2\n",
        "        left_sum = sum(int(d) for d in digits[:mid])\n",
        "        right_sum = sum(int(d) for d in digits[mid + 1:])\n",
        "    \n",
        "    return left_sum == right_sum\n",
        "\n",
        "def test_is_balanced():\n",
        "    assert is_balanced(123321) == True, \"Test Case 1 Failed\"  # 1+2 = 3 and 3+2+1 = 6\n",
        "    assert is_balanced(1234321) == True, \"Test Case 2 Failed\"  # 1+2+3 = 6 and 3+2+1 = 6\n",
        "    assert is_balanced(123456) == False, \"Test Case 3 Failed\"  # 1+2+3 = 6 and 4+5+6 = 15\n",
        "    \n",
        "    print(\"Все тесты пройдены!\")\n",
        "\n",
        "# Запускаем тесты\n",
        "test_is_balanced()\n"
      ]
    }
  ],
  "metadata": {
    "colab": {
      "provenance": []
    },
    "kernelspec": {
      "display_name": "base",
      "language": "python",
      "name": "python3"
    },
    "language_info": {
      "codemirror_mode": {
        "name": "ipython",
        "version": 3
      },
      "file_extension": ".py",
      "mimetype": "text/x-python",
      "name": "python",
      "nbconvert_exporter": "python",
      "pygments_lexer": "ipython3",
      "version": "3.12.4"
    }
  },
  "nbformat": 4,
  "nbformat_minor": 0
}
